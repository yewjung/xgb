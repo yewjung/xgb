{
 "cells": [
  {
   "cell_type": "code",
   "execution_count": null,
   "metadata": {},
   "outputs": [],
   "source": [
    "import pandas as pd\n",
    "\n",
    "df = pd.read_csv('bank+marketing/bank-additional/bank-additional-full.csv', delimiter=';')\n",
    "df.head()\n"
   ]
  },
  {
   "cell_type": "code",
   "execution_count": null,
   "metadata": {},
   "outputs": [],
   "source": [
    "cols_to_drop = ['duration', 'emp.var.rate', 'cons.price.idx', 'cons.conf.idx', 'euribor3m', 'nr.employed']\n",
    "df = df.drop(columns=cols_to_drop)\n",
    "df = df.rename(columns={'job': 'job_type', 'default': 'default_status', \n",
    "                                                   'housing': 'housing_loan_status', 'loan': 'personal_loan_status', \n",
    "                                                   'contact': 'contact_type', 'month': 'contact_month', \n",
    "                                                   'day_of_week': 'contact_day_of_week', 'campaign': 'num_contacts', \n",
    "                                                   'pdays': 'days_last_contact', 'previous': 'previous_contacts', \n",
    "                                                   'poutcome': 'previous_outcome', \n",
    "                                                   'y': 'result'\n",
    "                                                    })\n",
    "df['result'] = df['result'].replace({'yes': 1, 'no': 0})\n",
    "df.head()\n"
   ]
  },
  {
   "cell_type": "code",
   "execution_count": null,
   "metadata": {},
   "outputs": [],
   "source": [
    "from sklearn.model_selection import train_test_split\n",
    "\n",
    "X = df.drop(columns='result')\n",
    "y = df['result']\n",
    "X_train, X_test, y_train, y_test = train_test_split(X, y, test_size=0.2, stratify=y, random_state=8)\n",
    "\n",
    "\n"
   ]
  },
  {
   "cell_type": "code",
   "execution_count": null,
   "metadata": {},
   "outputs": [],
   "source": [
    "import numpy as np\n",
    "from sklearn.pipeline import Pipeline\n",
    "from category_encoders.target_encoder import TargetEncoder\n",
    "from xgboost import XGBClassifier\n",
    "from sklearn.preprocessing import OrdinalEncoder, OneHotEncoder\n",
    "from sklearn.compose import ColumnTransformer\n",
    "import category_encoders as ce\n",
    "\n",
    "from skopt import BayesSearchCV\n",
    "from skopt.space import Real, Integer\n",
    "\n",
    "\n",
    "ordinal_columns = ['contact_month', 'contact_day_of_week']\n",
    "one_hot_columns = ['contact_type', 'marital', 'default_status', 'housing_loan_status', 'personal_loan_status', 'previous_outcome']\n",
    "lbl_bin_columns = ['job_type', 'education']\n",
    "ordinal_encoder = OrdinalEncoder(categories=[\n",
    "                                              ['jan', 'feb', 'mar', 'apr', 'may', 'jun', 'jul', 'aug', 'sep', 'oct', 'nov', 'dec'],\n",
    "                                              ['mon', 'tue', 'wed', 'thu', 'fri', 'sat', 'sun']\n",
    "                                            ]\n",
    "                                )\n",
    "one_hot_encoder = OneHotEncoder(sparse=False, handle_unknown = \"ignore\")\n",
    "lbl_bin_encoder = ce.BinaryEncoder()\n",
    "ct = ColumnTransformer(\n",
    "        transformers=[\n",
    "            ('ordinal', ordinal_encoder, ordinal_columns),\n",
    "            ('onehot', one_hot_encoder, one_hot_columns),\n",
    "            ('binary', lbl_bin_encoder, lbl_bin_columns),\n",
    "        ],\n",
    "        remainder='passthrough'\n",
    "    )\n",
    "pipe = Pipeline(steps=\n",
    "                [\n",
    "                  ('preprocess', ct),\n",
    "                  ('clf', XGBClassifier(random_state=8))\n",
    "                ], verbose=True)\n",
    "\n",
    "search_space = {\n",
    "    # 'clf__max_depth': np.arange(2,8),\n",
    "    'clf__learning_rate': Real(0.001, 1.0, prior='log-uniform'),\n",
    "    'clf__subsample': Real(0.5, 1.0),\n",
    "    'clf__colsample_bytree': Real(0.5, 1.0),\n",
    "    'clf__colsample_bylevel': Real(0.5, 1.0),\n",
    "    'clf__colsample_bynode' : Real(0.5, 1.0),\n",
    "    'clf__reg_alpha': Real(0.0, 10.0),\n",
    "    'clf__reg_lambda': Real(0.0, 10.0),\n",
    "    'clf__gamma': Real(0.0, 10.0)\n",
    "}\n",
    "opt = BayesSearchCV(pipe, search_space, cv=3, n_iter=10, scoring='roc_auc', random_state=8, verbose=True) \n",
    "opt.fit(X_train, y_train)"
   ]
  },
  {
   "cell_type": "code",
   "execution_count": null,
   "metadata": {},
   "outputs": [],
   "source": [
    "opt.best_estimator_\n"
   ]
  },
  {
   "cell_type": "code",
   "execution_count": null,
   "metadata": {},
   "outputs": [],
   "source": [
    "opt.best_score_"
   ]
  },
  {
   "cell_type": "code",
   "execution_count": null,
   "metadata": {},
   "outputs": [],
   "source": [
    "opt.score(X_test, y_test)"
   ]
  },
  {
   "cell_type": "code",
   "execution_count": null,
   "metadata": {},
   "outputs": [],
   "source": [
    "opt.predict(X_test)\n"
   ]
  },
  {
   "cell_type": "code",
   "execution_count": null,
   "metadata": {},
   "outputs": [],
   "source": [
    "opt.predict_proba(X_test)"
   ]
  },
  {
   "cell_type": "code",
   "execution_count": null,
   "metadata": {},
   "outputs": [],
   "source": [
    "opt.best_estimator_.steps"
   ]
  },
  {
   "cell_type": "code",
   "execution_count": null,
   "metadata": {},
   "outputs": [],
   "source": [
    "from xgboost import plot_importance\n",
    "\n",
    "xgboost_step = opt.best_estimator_.steps[1]\n",
    "xgboost_model = xgboost_step[1]\n",
    "xgboost_model.get_booster().feature_names = ct.get_feature_names_out().tolist()\n",
    "plot_importance(xgboost_model)"
   ]
  },
  {
   "cell_type": "code",
   "execution_count": 165,
   "metadata": {},
   "outputs": [
    {
     "name": "stdout",
     "output_type": "stream",
     "text": [
      "<class 'pandas.core.frame.DataFrame'>\n",
      "RangeIndex: 32950 entries, 0 to 32949\n",
      "Data columns (total 32 columns):\n",
      " #   Column                                Non-Null Count  Dtype  \n",
      "---  ------                                --------------  -----  \n",
      " 0   ordinal__contact_month                32950 non-null  float64\n",
      " 1   ordinal__contact_day_of_week          32950 non-null  float64\n",
      " 2   onehot__contact_type_cellular         32950 non-null  float64\n",
      " 3   onehot__contact_type_telephone        32950 non-null  float64\n",
      " 4   onehot__marital_divorced              32950 non-null  float64\n",
      " 5   onehot__marital_married               32950 non-null  float64\n",
      " 6   onehot__marital_single                32950 non-null  float64\n",
      " 7   onehot__marital_unknown               32950 non-null  float64\n",
      " 8   onehot__default_status_no             32950 non-null  float64\n",
      " 9   onehot__default_status_unknown        32950 non-null  float64\n",
      " 10  onehot__default_status_yes            32950 non-null  float64\n",
      " 11  onehot__housing_loan_status_no        32950 non-null  float64\n",
      " 12  onehot__housing_loan_status_unknown   32950 non-null  float64\n",
      " 13  onehot__housing_loan_status_yes       32950 non-null  float64\n",
      " 14  onehot__personal_loan_status_no       32950 non-null  float64\n",
      " 15  onehot__personal_loan_status_unknown  32950 non-null  float64\n",
      " 16  onehot__personal_loan_status_yes      32950 non-null  float64\n",
      " 17  onehot__previous_outcome_failure      32950 non-null  float64\n",
      " 18  onehot__previous_outcome_nonexistent  32950 non-null  float64\n",
      " 19  onehot__previous_outcome_success      32950 non-null  float64\n",
      " 20  binary__job_type_0                    32950 non-null  float64\n",
      " 21  binary__job_type_1                    32950 non-null  float64\n",
      " 22  binary__job_type_2                    32950 non-null  float64\n",
      " 23  binary__job_type_3                    32950 non-null  float64\n",
      " 24  binary__education_0                   32950 non-null  float64\n",
      " 25  binary__education_1                   32950 non-null  float64\n",
      " 26  binary__education_2                   32950 non-null  float64\n",
      " 27  binary__education_3                   32950 non-null  float64\n",
      " 28  remainder__age                        32950 non-null  float64\n",
      " 29  remainder__num_contacts               32950 non-null  float64\n",
      " 30  remainder__days_last_contact          32950 non-null  float64\n",
      " 31  remainder__previous_contacts          32950 non-null  float64\n",
      "dtypes: float64(32)\n",
      "memory usage: 8.0 MB\n"
     ]
    },
    {
     "name": "stderr",
     "output_type": "stream",
     "text": [
      "/Library/Frameworks/Python.framework/Versions/3.10/lib/python3.10/site-packages/sklearn/preprocessing/_encoders.py:868: FutureWarning: `sparse` was renamed to `sparse_output` in version 1.2 and will be removed in 1.4. `sparse_output` is ignored unless you leave `sparse` to its default value.\n",
      "  warnings.warn(\n"
     ]
    }
   ],
   "source": [
    "ct = ColumnTransformer(\n",
    "        transformers=[\n",
    "            ('ordinal', ordinal_encoder, ordinal_columns),\n",
    "            ('onehot', one_hot_encoder, one_hot_columns),\n",
    "            ('binary', lbl_bin_encoder, lbl_bin_columns),\n",
    "        ],\n",
    "        remainder='passthrough'\n",
    "    )\n",
    "\n",
    "transformed_data = ct.fit_transform(X_train)\n",
    "d = pd.DataFrame(transformed_data)\n",
    "d.columns = ct.get_feature_names_out()\n",
    "d.head()\n",
    "d.dtypes\n",
    "d.info()\n"
   ]
  },
  {
   "cell_type": "code",
   "execution_count": null,
   "metadata": {},
   "outputs": [],
   "source": [
    "y_train.head()\n",
    "y_train.dtypes"
   ]
  }
 ],
 "metadata": {
  "kernelspec": {
   "display_name": "Python 3",
   "language": "python",
   "name": "python3"
  },
  "language_info": {
   "codemirror_mode": {
    "name": "ipython",
    "version": 3
   },
   "file_extension": ".py",
   "mimetype": "text/x-python",
   "name": "python",
   "nbconvert_exporter": "python",
   "pygments_lexer": "ipython3",
   "version": "3.10.11"
  },
  "orig_nbformat": 4
 },
 "nbformat": 4,
 "nbformat_minor": 2
}
